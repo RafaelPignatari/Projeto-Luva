{
 "cells": [
  {
   "cell_type": "code",
   "execution_count": 78,
   "id": "32c7cbcd",
   "metadata": {},
   "outputs": [],
   "source": [
    "import pandas as pd\n",
    "import numpy as np\n",
    "from sklearn.preprocessing import MinMaxScaler\n",
    "from sklearn.preprocessing import StandardScaler\n",
    "from sklearn.model_selection import train_test_split\n",
    "from sklearn.preprocessing import StandardScaler\n",
    "from sklearn.metrics import accuracy_score"
   ]
  },
  {
   "cell_type": "code",
   "execution_count": 79,
   "id": "05cce2e3",
   "metadata": {},
   "outputs": [
    {
     "name": "stderr",
     "output_type": "stream",
     "text": [
      "C:\\Users\\losan\\anaconda3\\Lib\\site-packages\\sklearn\\utils\\validation.py:1184: DataConversionWarning: A column-vector y was passed when a 1d array was expected. Please change the shape of y to (n_samples, ), for example using ravel().\n",
      "  y = column_or_1d(y, warn=True)\n",
      "C:\\Users\\losan\\anaconda3\\Lib\\site-packages\\sklearn\\utils\\validation.py:1184: DataConversionWarning: A column-vector y was passed when a 1d array was expected. Please change the shape of y to (n_samples, ), for example using ravel().\n",
      "  y = column_or_1d(y, warn=True)\n",
      "C:\\Users\\losan\\anaconda3\\Lib\\site-packages\\sklearn\\utils\\validation.py:1184: DataConversionWarning: A column-vector y was passed when a 1d array was expected. Please change the shape of y to (n_samples, ), for example using ravel().\n",
      "  y = column_or_1d(y, warn=True)\n"
     ]
    },
    {
     "name": "stdout",
     "output_type": "stream",
     "text": [
      "Lucas.csv - modelo SVM: 0.93333\n",
      "LucasRafael.csv - modelo SVM: 0.96296\n",
      "LucasRafaelArthur.csv - modelo SVM: 0.96296\n",
      "LucasRafaelArthurLarissa.csv - modelo SVM: 0.95000\n"
     ]
    },
    {
     "name": "stderr",
     "output_type": "stream",
     "text": [
      "C:\\Users\\losan\\anaconda3\\Lib\\site-packages\\sklearn\\utils\\validation.py:1184: DataConversionWarning: A column-vector y was passed when a 1d array was expected. Please change the shape of y to (n_samples, ), for example using ravel().\n",
      "  y = column_or_1d(y, warn=True)\n"
     ]
    }
   ],
   "source": [
    "from sklearn.svm import SVC\n",
    "\n",
    "dataSVC = []\n",
    "for x in ['Lucas.csv','LucasRafael.csv','LucasRafaelArthur.csv','LucasRafaelArthurLarissa.csv']:\n",
    "    df = pd.read_csv(x)\n",
    "    df = df.sort_values(by=df.columns[-1])\n",
    "\n",
    "    train, test = train_test_split(df, test_size=0.2,random_state=101, stratify=df[df.columns[-1]])\n",
    "\n",
    "    scaler = StandardScaler()\n",
    "    X_train = train.iloc[:, :-1]\n",
    "    X_train = pd.DataFrame(scaler.fit_transform(X_train), columns=X_train.columns)\n",
    "    X_test = test.iloc[:, :-1]\n",
    "    X_test = pd.DataFrame(scaler.transform(X_test), columns=X_test.columns)\n",
    "    y_train = train.iloc[:,-1:]\n",
    "    y_test = test.iloc[:,-1:]\n",
    "    \n",
    "    model = SVC()\n",
    "    model.fit(X_train, y_train)\n",
    "\n",
    "    # Faça previsões nos dados de teste\n",
    "    y_pred_svc = model.predict(X_test)\n",
    "\n",
    "    # Avalie a precisão do modelo\n",
    "    accuracy = accuracy_score(y_test, y_pred_svc)\n",
    "    dataSVC.append(accuracy)\n",
    "    print(f'{x} - modelo SVM: {accuracy:.5f}')\n"
   ]
  },
  {
   "cell_type": "code",
   "execution_count": 80,
   "id": "208bcd3f",
   "metadata": {},
   "outputs": [
    {
     "name": "stderr",
     "output_type": "stream",
     "text": [
      "C:\\Users\\losan\\anaconda3\\Lib\\site-packages\\sklearn\\utils\\validation.py:1184: DataConversionWarning: A column-vector y was passed when a 1d array was expected. Please change the shape of y to (n_samples, ), for example using ravel().\n",
      "  y = column_or_1d(y, warn=True)\n",
      "C:\\Users\\losan\\anaconda3\\Lib\\site-packages\\sklearn\\utils\\validation.py:1184: DataConversionWarning: A column-vector y was passed when a 1d array was expected. Please change the shape of y to (n_samples, ), for example using ravel().\n",
      "  y = column_or_1d(y, warn=True)\n"
     ]
    },
    {
     "name": "stdout",
     "output_type": "stream",
     "text": [
      "Lucas.csv - modelo Logistic Regression: 0.95556\n",
      "LucasRafael.csv - modelo Logistic Regression: 1.00000\n"
     ]
    },
    {
     "name": "stderr",
     "output_type": "stream",
     "text": [
      "C:\\Users\\losan\\anaconda3\\Lib\\site-packages\\sklearn\\utils\\validation.py:1184: DataConversionWarning: A column-vector y was passed when a 1d array was expected. Please change the shape of y to (n_samples, ), for example using ravel().\n",
      "  y = column_or_1d(y, warn=True)\n"
     ]
    },
    {
     "name": "stdout",
     "output_type": "stream",
     "text": [
      "LucasRafaelArthur.csv - modelo Logistic Regression: 1.00000\n"
     ]
    },
    {
     "name": "stderr",
     "output_type": "stream",
     "text": [
      "C:\\Users\\losan\\anaconda3\\Lib\\site-packages\\sklearn\\utils\\validation.py:1184: DataConversionWarning: A column-vector y was passed when a 1d array was expected. Please change the shape of y to (n_samples, ), for example using ravel().\n",
      "  y = column_or_1d(y, warn=True)\n"
     ]
    },
    {
     "name": "stdout",
     "output_type": "stream",
     "text": [
      "LucasRafaelArthurLarissa.csv - modelo Logistic Regression: 0.96111\n"
     ]
    }
   ],
   "source": [
    "from sklearn.linear_model import LogisticRegression\n",
    "\n",
    "dataLogisticRegression = []\n",
    "for x in ['Lucas.csv','LucasRafael.csv','LucasRafaelArthur.csv','LucasRafaelArthurLarissa.csv']:\n",
    "    df = pd.read_csv(x)\n",
    "    df = df.sort_values(by=df.columns[-1])\n",
    "\n",
    "    train, test = train_test_split(df, test_size=0.2,random_state=101, stratify=df[df.columns[-1]])\n",
    "\n",
    "    scaler = StandardScaler()\n",
    "    X_train = train.iloc[:, :-1]\n",
    "    X_train = pd.DataFrame(scaler.fit_transform(X_train), columns=X_train.columns)\n",
    "    X_test = test.iloc[:, :-1]\n",
    "    X_test = pd.DataFrame(scaler.transform(X_test), columns=X_test.columns)\n",
    "    y_train = train.iloc[:,-1:]\n",
    "    y_test = test.iloc[:,-1:]\n",
    "    \n",
    "    model = LogisticRegression(max_iter=3000)\n",
    "    model.fit(X_train, y_train)\n",
    "\n",
    "    # Faça previsões nos dados de teste\n",
    "    y_pred_svc = model.predict(X_test)\n",
    "\n",
    "    # Avalie a precisão do modelo\n",
    "    accuracy = accuracy_score(y_test, y_pred_svc)\n",
    "    dataLogisticRegression.append(accuracy)\n",
    "    print(f'{x} - modelo Logistic Regression: {accuracy:.5f}')\n",
    "    "
   ]
  },
  {
   "cell_type": "code",
   "execution_count": 81,
   "id": "ebf39e55",
   "metadata": {},
   "outputs": [
    {
     "name": "stdout",
     "output_type": "stream",
     "text": [
      "Lucas.csv - modelo Decision Tree Classifier: 0.93333\n",
      "LucasRafael.csv - modelo Decision Tree Classifier: 0.89630\n",
      "LucasRafaelArthur.csv - modelo Decision Tree Classifier: 0.89630\n",
      "LucasRafaelArthurLarissa.csv - modelo Decision Tree Classifier: 0.88889\n"
     ]
    }
   ],
   "source": [
    "from sklearn.tree import DecisionTreeClassifier\n",
    "\n",
    "dataDecisionTreeClassifier = []\n",
    "for x in ['Lucas.csv','LucasRafael.csv','LucasRafaelArthur.csv','LucasRafaelArthurLarissa.csv']:\n",
    "    df = pd.read_csv(x)\n",
    "    df = df.sort_values(by=df.columns[-1])\n",
    "\n",
    "    train, test = train_test_split(df, test_size=0.2,random_state=101, stratify=df[df.columns[-1]])\n",
    "\n",
    "    scaler = StandardScaler()\n",
    "    X_train = train.iloc[:, :-1]\n",
    "    X_train = pd.DataFrame(scaler.fit_transform(X_train), columns=X_train.columns)\n",
    "    X_test = test.iloc[:, :-1]\n",
    "    X_test = pd.DataFrame(scaler.transform(X_test), columns=X_test.columns)\n",
    "    y_train = train.iloc[:,-1:]\n",
    "    y_test = test.iloc[:,-1:]\n",
    "    \n",
    "    model = DecisionTreeClassifier()\n",
    "    model.fit(X_train, y_train)\n",
    "\n",
    "    # Faça previsões nos dados de teste\n",
    "    y_pred_svc = model.predict(X_test)\n",
    "\n",
    "    # Avalie a precisão do modelo\n",
    "    accuracy = accuracy_score(y_test, y_pred_svc)\n",
    "    dataDecisionTreeClassifier.append(accuracy)\n",
    "    print(f'{x} - modelo Decision Tree Classifier: {accuracy:.5f}')"
   ]
  },
  {
   "cell_type": "code",
   "execution_count": 82,
   "id": "4119c3f5",
   "metadata": {},
   "outputs": [
    {
     "name": "stderr",
     "output_type": "stream",
     "text": [
      "C:\\Users\\losan\\anaconda3\\Lib\\site-packages\\sklearn\\base.py:1151: DataConversionWarning: A column-vector y was passed when a 1d array was expected. Please change the shape of y to (n_samples,), for example using ravel().\n",
      "  return fit_method(estimator, *args, **kwargs)\n"
     ]
    },
    {
     "name": "stdout",
     "output_type": "stream",
     "text": [
      "Lucas.csv - modelo Random Forest Classifier: 0.97778\n"
     ]
    },
    {
     "name": "stderr",
     "output_type": "stream",
     "text": [
      "C:\\Users\\losan\\anaconda3\\Lib\\site-packages\\sklearn\\base.py:1151: DataConversionWarning: A column-vector y was passed when a 1d array was expected. Please change the shape of y to (n_samples,), for example using ravel().\n",
      "  return fit_method(estimator, *args, **kwargs)\n"
     ]
    },
    {
     "name": "stdout",
     "output_type": "stream",
     "text": [
      "LucasRafael.csv - modelo Random Forest Classifier: 0.97778\n"
     ]
    },
    {
     "name": "stderr",
     "output_type": "stream",
     "text": [
      "C:\\Users\\losan\\anaconda3\\Lib\\site-packages\\sklearn\\base.py:1151: DataConversionWarning: A column-vector y was passed when a 1d array was expected. Please change the shape of y to (n_samples,), for example using ravel().\n",
      "  return fit_method(estimator, *args, **kwargs)\n"
     ]
    },
    {
     "name": "stdout",
     "output_type": "stream",
     "text": [
      "LucasRafaelArthur.csv - modelo Random Forest Classifier: 0.97037\n"
     ]
    },
    {
     "name": "stderr",
     "output_type": "stream",
     "text": [
      "C:\\Users\\losan\\anaconda3\\Lib\\site-packages\\sklearn\\base.py:1151: DataConversionWarning: A column-vector y was passed when a 1d array was expected. Please change the shape of y to (n_samples,), for example using ravel().\n",
      "  return fit_method(estimator, *args, **kwargs)\n"
     ]
    },
    {
     "name": "stdout",
     "output_type": "stream",
     "text": [
      "LucasRafaelArthurLarissa.csv - modelo Random Forest Classifier: 0.96111\n"
     ]
    }
   ],
   "source": [
    "from sklearn.ensemble import RandomForestClassifier\n",
    "\n",
    "dataRandomForestClassifier = []\n",
    "for x in ['Lucas.csv','LucasRafael.csv','LucasRafaelArthur.csv','LucasRafaelArthurLarissa.csv']:\n",
    "    df = pd.read_csv(x)\n",
    "    df = df.sort_values(by=df.columns[-1])\n",
    "\n",
    "    train, test = train_test_split(df, test_size=0.2,random_state=101, stratify=df[df.columns[-1]])\n",
    "\n",
    "    scaler = StandardScaler()\n",
    "    X_train = train.iloc[:, :-1]\n",
    "    X_train = pd.DataFrame(scaler.fit_transform(X_train), columns=X_train.columns)\n",
    "    X_test = test.iloc[:, :-1]\n",
    "    X_test = pd.DataFrame(scaler.transform(X_test), columns=X_test.columns)\n",
    "    y_train = train.iloc[:,-1:]\n",
    "    y_test = test.iloc[:,-1:]\n",
    "    \n",
    "    model = RandomForestClassifier()\n",
    "    model.fit(X_train, y_train)\n",
    "\n",
    "    # Faça previsões nos dados de teste\n",
    "    y_pred_svc = model.predict(X_test)\n",
    "\n",
    "    # Avalie a precisão do modelo\n",
    "    accuracy = accuracy_score(y_test, y_pred_svc)\n",
    "    dataRandomForestClassifier.append(accuracy)\n",
    "    print(f'{x} - modelo Random Forest Classifier: {accuracy:.5f}')"
   ]
  },
  {
   "cell_type": "code",
   "execution_count": 84,
   "id": "3ed03ad7",
   "metadata": {},
   "outputs": [
    {
     "data": {
      "image/png": "[encoded data removed]",
      "text/plain": [
       "<Figure size 640x480 with 1 Axes>"
      ]
     },
     "metadata": {},
     "output_type": "display_data"
    }
   ],
   "source": [
    "import matplotlib.pyplot as plt\n",
    "\n",
    "def plotGraph():\n",
    "    # X values with increments of 8\n",
    "    x_values = [8 * i for i in range(1, 5)]\n",
    "\n",
    "    # Plotting the line chart\n",
    "    plt.plot(x_values, dataSVC, label='SVM', marker='o')\n",
    "    plt.plot(x_values, dataLogisticRegression, label='Logistic Regression', marker='o')\n",
    "    plt.plot(x_values, dataDecisionTreeClassifier, label='Decision Tree Classifier', marker='o')\n",
    "    plt.plot(x_values, dataRandomForestClassifier, label='Random Forest Classifier', marker='o')\n",
    "    \n",
    "\n",
    "    # Setting the maximum value of y-axis to 1\n",
    "    plt.ylim(0.8, 1.05)\n",
    "    plt.xticks([8 * i for i in range(1, 5)])\n",
    "\n",
    "    # Labeling the axes\n",
    "    plt.xlabel('Número de amostras utilizados por classe no treinamento')\n",
    "    plt.ylabel('Precisão do modelo entre 0 e 1')\n",
    "\n",
    "    plt.legend()\n",
    "    # Displaying the plot\n",
    "    plt.show()\n",
    "    \n",
    "plotGraph()"
   ]
  },
  {
   "cell_type": "code",
   "execution_count": null,
   "id": "d173db5e",
   "metadata": {},
   "outputs": [],
   "source": []
  }
 ],
 "metadata": {
  "kernelspec": {
   "display_name": "Python 3 (ipykernel)",
   "language": "python",
   "name": "python3"
  },
  "language_info": {
   "codemirror_mode": {
    "name": "ipython",
    "version": 3
   },
   "file_extension": ".py",
   "mimetype": "text/x-python",
   "name": "python",
   "nbconvert_exporter": "python",
   "pygments_lexer": "ipython3",
   "version": "3.11.4"
  }
 },
 "nbformat": 4,
 "nbformat_minor": 5
}
