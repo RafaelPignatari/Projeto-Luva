{
 "cells": [
  {
   "cell_type": "code",
   "execution_count": 6,
   "id": "de74336d",
   "metadata": {},
   "outputs": [],
   "source": [
    "import pandas as pd\n",
    "import numpy as np\n",
    "from sklearn.preprocessing import MinMaxScaler\n",
    "from sklearn.svm import SVC\n",
    "from sklearn.metrics import accuracy_score\n",
    "from skl2onnx import convert_sklearn\n",
    "from skl2onnx.common.data_types import FloatTensorType\n",
    "\n",
    "df = pd.read_csv('Dados preliminares - Página1.csv')\n",
    "df.rename(columns={'Sensor 1': 'Sensor Flexão'}, inplace=True)\n",
    "\n",
    "#Separando os dados em treinamento e teste\n",
    "train = df.iloc[:-30]\n",
    "test = df.iloc[-30:]\n",
    "\n",
    "#Alterando a ordenação das linhas\n",
    "train = train.sample(frac=1.0, random_state=42)\n",
    "test = test.sample(frac=1.0, random_state=42)\n",
    "\n",
    "X_train = train.iloc[:, :3]\n",
    "X_test = test.iloc[:, :3]\n",
    "y_train = train['Posição']\n",
    "y_test = test['Posição']\n",
    "\n",
    "model = SVC()\n",
    "model.fit(X_train, y_train)\n",
    "\n",
    "# Convert the model to ONNX format\n",
    "initial_type = [('float_input', FloatTensorType([None, X_train.shape[1]]))]\n",
    "onx = convert_sklearn(model, initial_types=initial_type)\n",
    "\n",
    "# Save the ONNX model to a file\n",
    "with open(\"svc.onnx\", \"wb\") as f:\n",
    "    f.write(onx.SerializeToString())\n"
   ]
  },
  {
   "cell_type": "code",
   "execution_count": null,
   "id": "dd5f2194",
   "metadata": {},
   "outputs": [],
   "source": []
  }
 ],
 "metadata": {
  "kernelspec": {
   "display_name": "Python 3 (ipykernel)",
   "language": "python",
   "name": "python3"
  },
  "language_info": {
   "codemirror_mode": {
    "name": "ipython",
    "version": 3
   },
   "file_extension": ".py",
   "mimetype": "text/x-python",
   "name": "python",
   "nbconvert_exporter": "python",
   "pygments_lexer": "ipython3",
   "version": "3.11.4"
  }
 },
 "nbformat": 4,
 "nbformat_minor": 5
}
