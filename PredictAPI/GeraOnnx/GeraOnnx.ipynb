{
 "cells": [
  {
   "cell_type": "code",
   "execution_count": null,
   "metadata": {
    "colab": {
     "base_uri": "https://localhost:8080/",
     "height": 636
    },
    "id": "AKjKwatKP-j3",
    "outputId": "81e4f4f0-e665-4e0b-b0e6-1501bcdd9f9b"
   },
   "outputs": [],
   "source": [
    "#!pip install onnxruntime"
   ]
  },
  {
   "cell_type": "code",
   "execution_count": null,
   "metadata": {
    "colab": {
     "base_uri": "https://localhost:8080/",
     "height": 75
    },
    "id": "KvZ5hhyIQsTu",
    "outputId": "01c7ce90-c251-484f-f77f-d80619dddc76"
   },
   "outputs": [],
   "source": [
    "import pandas as pd\n",
    "import numpy as np\n",
    "from sklearn.preprocessing import MinMaxScaler\n",
    "\n",
    "df = pd.read_csv('Dados preliminares - Página1.csv')\n",
    "df.rename(columns={'Sensor 1': 'Sensor Flexão'}, inplace=True)\n",
    "\n",
    "#Separando os dados em treinamento e teste\n",
    "train = df.iloc[:-30]\n",
    "test = df.iloc[-30:]\n",
    "\n",
    "#Alterando a ordenação das linhas\n",
    "train = train.sample(frac=1.0, random_state=42)\n",
    "test = test.sample(frac=1.0, random_state=42)\n",
    "\n",
    "X_train = train.iloc[:, :3]\n",
    "X_test = test.iloc[:, :3]\n",
    "y_train = train['Posição']\n",
    "y_test = test['Posição']\n",
    "\n",
    "from sklearn.svm import SVC\n",
    "from sklearn.metrics import accuracy_score\n",
    "\n",
    "model = SVC()\n",
    "model.fit(X_train, y_train)"
   ]
  },
  {
   "cell_type": "code",
   "execution_count": null,
   "metadata": {
    "id": "fmMoearqQS-L"
   },
   "outputs": [],
   "source": [
    "import onnxruntime\n",
    "from skl2onnx import to_onnx\n",
    "from skl2onnx import convert_sklearn\n",
    "from skl2onnx.common.data_types import FloatTensorType, Int64TensorType\n",
    "from onnxruntime import InferenceSession\n",
    "\n",
    "#def predict_with_onnxruntime(onx, X):\n",
    "#    try:\n",
    "#        X_train_np = X.to_numpy()\n",
    "#       # Load the ONNX model\n",
    "#        sess = InferenceSession(onx.SerializeToString())\n",
    "#        print(sess)\n",
    "#        # Get the input names\n",
    "#        input_names = [input.name for input in sess.get_inputs()]\n",
    "#        print(input_names)\n",
    "#        \n",
    "#        # Create a dictionary to feed input data\n",
    "#        #input_data = {input_name: X_train_np[:, i].astype(np.int64) for i, input_name in enumerate(input_names)}\n",
    "#        #input_data = {X_train_np[:0], X_train_np[:1], X_train_np[:2]}\n",
    "#        input_data = [train.iloc[:, 0], train.iloc[:, 1], train.iloc[:, 2]]\n",
    "#        print(input_data)\n",
    "#        \n",
    "#        #Run the inference\n",
    "#        res = sess.run(None, input_data)\n",
    "#        print(res)\n",
    "#        \n",
    "#        return res[0]\n",
    "#    except Exception as e:\n",
    "#        print(f\"Error during prediction: {e}\")\n",
    "#        return None\n",
    "\n",
    "onx = to_onnx(model, X_train)\n",
    "\n",
    "with open(\"svc.onnx\", \"wb\") as f:\n",
    "    f.write(onx.SerializeToString())\n",
    "    \n",
    "#print(predict_with_onnxruntime(onx, X_train))"
   ]
  },
  {
   "cell_type": "code",
   "execution_count": null,
   "metadata": {},
   "outputs": [],
   "source": [
    "pip install onnxmltools"
   ]
  },
  {
   "cell_type": "code",
   "execution_count": null,
   "metadata": {},
   "outputs": [],
   "source": []
  },
  {
   "cell_type": "code",
   "execution_count": null,
   "metadata": {},
   "outputs": [],
   "source": []
  }
 ],
 "metadata": {
  "colab": {
   "provenance": []
  },
  "kernelspec": {
   "display_name": "Python 3 (ipykernel)",
   "language": "python",
   "name": "python3"
  },
  "language_info": {
   "codemirror_mode": {
    "name": "ipython",
    "version": 3
   },
   "file_extension": ".py",
   "mimetype": "text/x-python",
   "name": "python",
   "nbconvert_exporter": "python",
   "pygments_lexer": "ipython3",
   "version": "3.11.4"
  }
 },
 "nbformat": 4,
 "nbformat_minor": 1
}
